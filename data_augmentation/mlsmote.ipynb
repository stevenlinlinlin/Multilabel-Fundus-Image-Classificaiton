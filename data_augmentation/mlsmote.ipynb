{
 "cells": [
  {
   "cell_type": "code",
   "execution_count": 1,
   "metadata": {},
   "outputs": [],
   "source": [
    "import numpy as np\n",
    "import pandas as pd\n",
    "import random\n",
    "from sklearn.datasets import make_classification\n",
    "from sklearn.neighbors import NearestNeighbors\n",
    "from PIL import Image\n",
    "import os\n",
    "from pathlib import Path"
   ]
  },
  {
   "cell_type": "code",
   "execution_count": 2,
   "metadata": {},
   "outputs": [],
   "source": [
    "labels_df = pd.read_csv('../data/fundus/MuReD/train_data.csv')\n",
    "image_path = Path('../data/fundus/MuReD/images/images')\n",
    "da_image_path = Path('../data/fundus/MuReD/images/mlsmote')"
   ]
  },
  {
   "cell_type": "code",
   "execution_count": 3,
   "metadata": {},
   "outputs": [
    {
     "data": {
      "text/plain": [
       "((350, 196608), (350, 20))"
      ]
     },
     "execution_count": 3,
     "metadata": {},
     "output_type": "execute_result"
    }
   ],
   "source": [
    "def get_tail_label(df):\n",
    "    columns = df.columns[1:]\n",
    "    n = len(columns)\n",
    "    irpl = np.zeros(n)\n",
    "    for column in range(n):\n",
    "        irpl[column] = df[columns[column]].value_counts()[1]\n",
    "    irpl = max(irpl)/irpl\n",
    "    mir = np.average(irpl)\n",
    "    tail_label = []\n",
    "    for i in range(n):\n",
    "        if irpl[i] > mir:\n",
    "            tail_label.append(columns[i])\n",
    "    return tail_label\n",
    "\n",
    "def get_index(df):\n",
    "  tail_labels = get_tail_label(df)\n",
    "  index = set()\n",
    "  for tail_label in tail_labels:\n",
    "    sub_index = set(df[df[tail_label]==1].index)\n",
    "    index = index.union(sub_index)\n",
    "  return list(index)\n",
    "\n",
    "def process_and_flatten_image(image_path):\n",
    "    img = Image.open(image_path)\n",
    "    img = img.resize((256,256))\n",
    "    img = np.array(img)\n",
    "    img = img.flatten()\n",
    "    return img\n",
    "\n",
    "def get_minority_instace(y, images_path):\n",
    "    index = get_index(y)\n",
    "    y = y[y.index.isin(index)].reset_index(drop = True)\n",
    "    y_sub = y.iloc[:, 1:]\n",
    "    x_sub = []\n",
    "    for i in range(len(y)):\n",
    "        image_path = images_path / f\"{y.iloc[i,0]}.png\" if os.path.exists(images_path / f\"{y.iloc[i,0]}.png\") else images_path / f\"{y.iloc[i,0]}.tif\"\n",
    "        x_sub.append(process_and_flatten_image(image_path))\n",
    "    x_sub = np.array(x_sub)\n",
    "    return x_sub, y_sub\n",
    "\n",
    "\n",
    "\n",
    "x_sub, y_sub = get_minority_instace(labels_df, image_path)\n",
    "x_sub.shape, y_sub.shape"
   ]
  },
  {
   "cell_type": "code",
   "execution_count": 23,
   "metadata": {},
   "outputs": [
    {
     "data": {
      "text/plain": [
       "((600, 196608), (600, 20))"
      ]
     },
     "execution_count": 23,
     "metadata": {},
     "output_type": "execute_result"
    }
   ],
   "source": [
    "def nearest_neighbour(X):\n",
    "    nbs=NearestNeighbors(n_neighbors=5,metric='euclidean',algorithm='kd_tree').fit(X)\n",
    "    euclidean,indices= nbs.kneighbors(X)\n",
    "    return indices\n",
    "\n",
    "def MLSMOTE(X ,y, n_sample):\n",
    "    indices2 = nearest_neighbour(X)\n",
    "    n = len(indices2)\n",
    "    new_X = np.zeros((n_sample, X.shape[1]))\n",
    "    target = np.zeros((n_sample, y.shape[1]))\n",
    "    for i in range(n_sample):\n",
    "        reference = random.randint(0,n-1)\n",
    "        neighbour = random.choice(indices2[reference,1:])\n",
    "        all_point = indices2[reference]\n",
    "        nn_df = y[y.index.isin(all_point)]\n",
    "        ser = nn_df.sum(axis = 0, skipna = True)\n",
    "        target[i] = np.array([1 if val>1 else 0 for val in ser])\n",
    "        ratio = random.random()\n",
    "        gap = X[reference,:] - X[neighbour,:]\n",
    "        new_X[i] = np.array(X[reference,:] + ratio * gap)\n",
    "        \n",
    "    target = pd.DataFrame(target, columns=y.columns)\n",
    "    return new_X, target\n",
    "\n",
    "\n",
    "X_res,y_res = MLSMOTE(x_sub, y_sub, 600)\n",
    "X_res.shape, y_res.shape"
   ]
  },
  {
   "cell_type": "code",
   "execution_count": 25,
   "metadata": {},
   "outputs": [],
   "source": [
    "def save_new_images(X_res, y_res, labels_df, da_image_path):\n",
    "    id_name = 1\n",
    "    for i in range(len(y_res)):\n",
    "        new_img_name = 'DA_' + str(id_name)\n",
    "        image_path = da_image_path / f\"{new_img_name}.png\"\n",
    "        img = X_res[i].reshape(256,256,3)\n",
    "        img = Image.fromarray(img.astype('uint8'))\n",
    "        img.save(image_path)\n",
    "        id_name += 1\n",
    "        \n",
    "        new_row = pd.DataFrame(columns = labels_df.columns)\n",
    "        new_row.loc[0] = [new_img_name] + y_res.iloc[i,:].tolist()\n",
    "        # print(new_row)\n",
    "        labels_df = labels_df._append(new_row)\n",
    "    \n",
    "    labels_df.to_csv('../data/fundus/MuReD/' + '/mlsmote_train_data.csv', index = False)\n",
    "    \n",
    "    \n",
    "save_new_images(X_res, y_res, labels_df, da_image_path)"
   ]
  }
 ],
 "metadata": {
  "kernelspec": {
   "display_name": "multilabel",
   "language": "python",
   "name": "python3"
  },
  "language_info": {
   "codemirror_mode": {
    "name": "ipython",
    "version": 3
   },
   "file_extension": ".py",
   "mimetype": "text/x-python",
   "name": "python",
   "nbconvert_exporter": "python",
   "pygments_lexer": "ipython3",
   "version": "3.9.18"
  }
 },
 "nbformat": 4,
 "nbformat_minor": 2
}
