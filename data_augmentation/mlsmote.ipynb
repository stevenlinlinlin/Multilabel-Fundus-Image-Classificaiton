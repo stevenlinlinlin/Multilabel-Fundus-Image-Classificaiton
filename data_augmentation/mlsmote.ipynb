{
 "cells": [
  {
   "cell_type": "code",
   "execution_count": 1,
   "metadata": {},
   "outputs": [],
   "source": [
    "import numpy as np\n",
    "import pandas as pd\n",
    "import random\n",
    "from sklearn.datasets import make_classification\n",
    "from sklearn.neighbors import NearestNeighbors\n",
    "from PIL import Image\n",
    "import os\n",
    "from pathlib import Path\n",
    "import math"
   ]
  },
  {
   "cell_type": "code",
   "execution_count": 2,
   "metadata": {},
   "outputs": [
    {
     "name": "stdout",
     "output_type": "stream",
     "text": [
      "2057\n"
     ]
    }
   ],
   "source": [
    "labels_df = pd.read_csv('../data/fundus/MuReD/remedial_train_data.csv')\n",
    "image_file_path = Path('../data/fundus/MuReD/images/images')\n",
    "remedial_image_file_path = Path('../data/fundus/MuReD/images/remedial')\n",
    "da_image_path = Path('../data/fundus/MuReD/images/mlsmote_remedial')\n",
    "\n",
    "print(len(labels_df))"
   ]
  },
  {
   "cell_type": "code",
   "execution_count": 3,
   "metadata": {},
   "outputs": [
    {
     "name": "stdout",
     "output_type": "stream",
     "text": [
      "img resize to (1024.0, 1024.0)\n"
     ]
    },
    {
     "data": {
      "text/plain": [
       "((350, 3145728), (350, 20))"
      ]
     },
     "execution_count": 3,
     "metadata": {},
     "output_type": "execute_result"
    }
   ],
   "source": [
    "def get_tail_label(df):\n",
    "    columns = df.columns[1:]\n",
    "    n = len(columns)\n",
    "    irpl = np.zeros(n)\n",
    "    for column in range(n):\n",
    "        irpl[column] = df[columns[column]].value_counts()[1]\n",
    "    irpl = max(irpl)/irpl\n",
    "    mir = np.average(irpl)\n",
    "    tail_label = []\n",
    "    for i in range(n):\n",
    "        if irpl[i] > mir:\n",
    "            tail_label.append(columns[i])\n",
    "    return tail_label\n",
    "\n",
    "def get_index(df):\n",
    "  tail_labels = get_tail_label(df)\n",
    "  index = set()\n",
    "  for tail_label in tail_labels:\n",
    "    sub_index = set(df[df[tail_label]==1].index)\n",
    "    index = index.union(sub_index)\n",
    "  return list(index)\n",
    "\n",
    "def process_and_flatten_image(image_path):\n",
    "    img = Image.open(image_path)\n",
    "    img = img.resize((1024,1024))\n",
    "    img = np.array(img)\n",
    "    img = img.flatten()\n",
    "    return img\n",
    "\n",
    "def get_minority_instace(y, images_path, remedial_image_file_path=None):\n",
    "    index = get_index(y)\n",
    "    y = y[y.index.isin(index)].reset_index(drop = True)\n",
    "    y_sub = y.iloc[:, 1:]\n",
    "    x_sub = []\n",
    "    for i in range(len(y)):\n",
    "        if y.iloc[i,0].startswith('DA_'):\n",
    "            image_path = remedial_image_file_path / f\"{y.iloc[i,0]}.png\" if os.path.exists(remedial_image_file_path / f\"{y.iloc[i,0]}.png\") else remedial_image_file_path / f\"{y.iloc[i,0]}.tif\"\n",
    "        else:\n",
    "            image_path = images_path / f\"{y.iloc[i,0]}.png\" if os.path.exists(images_path / f\"{y.iloc[i,0]}.png\") else images_path / f\"{y.iloc[i,0]}.tif\"\n",
    "        x_sub.append(process_and_flatten_image(image_path))\n",
    "    x_sub = np.array(x_sub)\n",
    "    print(f\"img resize to ({math.sqrt(x_sub.shape[1]/3)}, {math.sqrt(x_sub.shape[1]/3)})\")\n",
    "    return x_sub, y_sub\n",
    "\n",
    "\n",
    "\n",
    "x_sub, y_sub = get_minority_instace(labels_df, image_file_path, remedial_image_file_path)\n",
    "x_sub.shape, y_sub.shape"
   ]
  },
  {
   "cell_type": "code",
   "execution_count": 4,
   "metadata": {},
   "outputs": [
    {
     "name": "stdout",
     "output_type": "stream",
     "text": [
      "add 411 samples\n"
     ]
    },
    {
     "data": {
      "text/plain": [
       "((411, 3145728), (411, 20))"
      ]
     },
     "execution_count": 4,
     "metadata": {},
     "output_type": "execute_result"
    }
   ],
   "source": [
    "def nearest_neighbour(X):\n",
    "    nbs=NearestNeighbors(n_neighbors=5,metric='euclidean',algorithm='kd_tree').fit(X)\n",
    "    euclidean,indices= nbs.kneighbors(X)\n",
    "    return indices\n",
    "\n",
    "def MLSMOTE(X ,y, n_sample):\n",
    "    indices2 = nearest_neighbour(X)\n",
    "    n = len(indices2)\n",
    "    new_X = np.zeros((n_sample, X.shape[1]))\n",
    "    target = np.zeros((n_sample, y.shape[1]))\n",
    "    for i in range(n_sample):\n",
    "        reference = random.randint(0,n-1)\n",
    "        neighbour = random.choice(indices2[reference,1:])\n",
    "        all_point = indices2[reference]\n",
    "        nn_df = y[y.index.isin(all_point)]\n",
    "        ser = nn_df.sum(axis = 0, skipna = True)\n",
    "        target[i] = np.array([1 if val>1 else 0 for val in ser])\n",
    "        ratio = random.random()\n",
    "        gap = X[reference,:] - X[neighbour,:]\n",
    "        new_X[i] = np.array(X[reference,:] + ratio * gap)\n",
    "        \n",
    "    target = pd.DataFrame(target, columns=y.columns)\n",
    "    return new_X, target\n",
    "\n",
    "\n",
    "# p = 0.4\n",
    "add_sample = int(len(labels_df) * 0.2)\n",
    "print(f\"add {add_sample} samples\")\n",
    "X_res,y_res = MLSMOTE(x_sub, y_sub, add_sample)\n",
    "X_res.shape, y_res.shape"
   ]
  },
  {
   "cell_type": "code",
   "execution_count": 6,
   "metadata": {},
   "outputs": [],
   "source": [
    "def save_new_images(X_res, y_res, labels_df, da_image_path):\n",
    "    id_name = 1\n",
    "    for i in range(len(y_res)):\n",
    "        new_img_name = 'DA_DA_' + str(id_name)\n",
    "        image_path = da_image_path / f\"{new_img_name}.png\"\n",
    "        img = X_res[i].reshape(1024,1024,3)\n",
    "        img = Image.fromarray(img.astype('uint8'))\n",
    "        img.save(image_path)\n",
    "        id_name += 1\n",
    "        \n",
    "        new_row = pd.DataFrame(columns = labels_df.columns)\n",
    "        new_row.loc[0] = [new_img_name] + y_res.iloc[i,:].tolist()\n",
    "        # print(new_row)\n",
    "        labels_df = labels_df._append(new_row)\n",
    "    \n",
    "    labels_df.to_csv('../data/fundus/MuReD/mlsmote_remedial_train_data.csv', index = False)\n",
    "    return labels_df\n",
    "    \n",
    "os.makedirs(da_image_path, exist_ok=True)\n",
    "labels_df = save_new_images(X_res, y_res, labels_df, da_image_path)"
   ]
  },
  {
   "cell_type": "code",
   "execution_count": 7,
   "metadata": {},
   "outputs": [
    {
     "data": {
      "text/plain": [
       "{'ID': 'aria_c_25_1aria_c_7_2aria_c_38_2aria_c_2_8aria_c_26_15aria_c_20_18aria_c_27_3aria_c_47_2aria_c_31_20aria_c_31_2aria_c_39_a_10aria_c_32_2aria_c_32_21aria_c_5_4aria_c_26_2(0031)aria_c_37aria_c_35_27aria_c_9_6aria_c_2_3aria_c_35_26aria_c_6_5aria_c_24_2aria_c_40_a_6aria_c_1_7aria_c_22_1aria_c_46_12aria_c_9_1aria_c_36_44aria_c_20_10aria_c_21_3aria_c_35_2aria_c_5_1aria_c_21_12aria_c_30_2aria_c_38_42aria_c_1_8aria_c_22_9aria_c_6_2aria_c_41_15aria_c_4_1aria_c_4_8aria_c_24_12aria_c_44_12aria_c_20_1aria_c_34_1aria_c_45_2aria_c_45_12aria_c_23_4aria_c_44_3aria_d_13_22aria_d_3_2aria_d_18_21aria_d_16_22aria_d_8_2aria_d_24_6aria_d_15_22aria_d_22_22aria_d_2_6aria_d_5_22aria_d_21_21aria_d_7_22aria_d_8_23aria_d_4_31aria_d_7_17aria_d_18_2aria_d_12_2aria_d_3_32aria_d_20_17(0001)aria_d_27aria_d_22_2aria_d_15_2(0026)aria_d_27aria_d_25_2aria_d_5_2aria_d_3_33aria_d_20_2aria_d_17_12aria_d_12_20(0024)aria_d_30aria_d_4_5(0003)aria_d_29aria_d_9_24aria_d_16_2aria_d_2_31aria_d_17_2(0001)aria_d_26aria_d_13_2(0018)aria_d_26aria_d_11_1aria_d_6_11(0007)aria_d_28aria_d_10_19aria_d_14_20aria_d_21_2aria_d_1_19aria_d_11_22aria_a_46_14aria_a_9_43aria_a_14_11aria_a_34_6aria_a_20_6aria_a_10_27aria_a_39_1aria_a_10_10aria_a_12_34aria_a_56_1aria_a_12_15aria_a_11_30aria_a_14_19aria_a_11_6aria_a_15_35137813141516171920212223262829303132333536373940414344454647484950515253555657585960636769707174757879818283848586878889909192939495969798991001011021031041061081091101111121141151171181191201211221231241251271301311321331341351361381391401411421431441451461521531541551561591601611621651661671681701721741751781791811821841851871881891911921931951961971992002012032042052062072102112122132142152162172192202212222242252262272282292302312332342362382402412422432452482492502522532542552572592612622632642652672702712722732752762782792802822842862872882892902922932942952962972982993003013023043053083103113123133143153163173183203253263283293303313323333343363373383413433443453463483493503523533563573583593633643653663683693703713723743753763773783793803813823833843853873923933943953963974004014024034064074084104124134144194204214234244254264294304314324344354374384394414424434444454464494504514524544564584594604614624634644654694714734754764784794804814824854864874894904914924964974985005035045065085095165175185195215225235255295305315335365375395405425435445455465475505515525565585595605615625635645655675695705715725735755775785795805815825835845855875885915925935945955965985996026036046056066076086096106116126136146156166176186196206216226236256266276306316326336346356366376386396406416446456466516536546556566586596616626636646656666676686716736746756766776786806816826836876886906926946956986997017027047057067077087107127137147157167177187197207227247267277287307317327337367417427437447487517527537557567577587597647667677707717737747757777787797837847867877887897907927937957967987998008018028038048068078088108118128148168178198218248258268278288298308318338348358368388408418428438448468478508518528548558578588598608628638648658668678688698708718728748758768788808818828838848858868898908918938958988999009029039059069079119129149169179189219229249259269299339349359369379399409419429439449459479489499509519529539549569579589599609619639649659669699709729749759779789809839849859879889909919929939949979981000100110021003100410061007100910101011101210131015101610171022102410251026102710281029103010311032103310351036103710381040104110421043104510461047104910501052105310581059106110621063106510661068107010711073107510771078107910801081108210831085108610871088108910901093109410951096109911001101110211031104110511061107110811091110111211131114111511161117111911231124112611271129113111321133113411351136113711381139114011411142114311441145114711481151115411551156115811591160116111631166116711681170117111721174117511761180118111831184118511861187118811891190119111931194119511961197119811991200120112021203120412051206120712081209121412151216121812191220122512261227122812291230123412371238123912401241124312441245124612471250125112541255125612571258125912601261126212641265126612671269127012711272127312751276127712781280128112821283128412871289129012911292129412951296129712991300130313051307130913101311131213141315131813201321132213231325132813291330133113321333133413351336133713381339134113421343134413461348134913501351135213531354135513561358136013611362136413651366136713691371137213731375137613771378137913801381138213841385138613871388138913911392139513961397139813991400140114021403140414051408140914101411141214131415141614181419142014211422142314241425142614271429143014311433143514361439144214431445144614471448144914511452145314541455145614571458145914601461146214631464146514661468146914701471147214731474147514761477147914801481148214831484148514871488148914911493149414951497149814991500150115021503150415051506150815091510151115121514151515161517151815191520152115221524152515261527152815301533153415361538153915411542154315441546154715481549155115521553155515561557155815611562156415651568157015711572158115821583158415861587158815891590159115931596159715981599160016011602161016121614161616191620162216231624162616271628162916301631163316341636163816391640164316441645164616481649165416561657165816591660166116621663166516661667166816711673167416751678167916811682168416871688168916901691169216931695169616971698169917001702170317041705170617081710171117121713171417171719172617271728172917301731173217331734173617411742174317441745174617471748175017511752175317541755175817591761176217631764176617671768176917701771177417751776177917801781178217831784178517861790179117921793179517961797180018021805180618071809181118121814181518161817181818191821182218231825182618271829183018321835183618371838183918401841184318461847184818501851185318551857185918601861186218631864186518661867186918711872187318741875187618771878187918811882188318841885188618871888189018931894189518961897189818991900190119021904190519071908190919101912191319161917191819191920im0001im0002im0004im0005im0006im0007im0008im0009im0010im0011im0012im0014im0015im0018im0020im0021im0022im0023im0024im0026im0027im0028im0029im0030im0031im0032im0033im0034im0036im0037im0038im0039im0040im0041im0042im0043im0044im0046im0048im0049im0050im0052im0053im0054im0055im0056im0057im0060im0061im0062im0063im0064im0067im0068im0069im0070im0071im0072im0073im0074im0075im0076im0079im0081im0082im0083im0084im0085im0086im0087im0088im0094im0095im0096im0097im0098im0099im0100im0101im0102im0103im0104im0106im0107im0111im0112im0113im0114im0115im0117im0120im0121im0123im0124im0125im0126im0128im0129im0131im0132im0133im0134im0135im0136im0137im0139im0140im0141im0143im0145im0146im0147im0149im0150im0153im0154im0156im0157im0158im0160im0161im0162im0163im0169im0170im0171im0172im0173im0174im0175im0176im0177im0178im0179im0180im0185im0186im0188im0190im0191im0192im0193im0194im0196im0197im0198im0199im0200im0201im0202im0203im0204im0205im0207im0208im0209im0210im0211im0212im0213im0216im0217im0218im0219im0220im0221im0222im0223im0224im0225im0226im0228im0229im0231im0233im0234im0235im0236im0237im0238im0239im0240im0241im0242im0243im0245im0246im0247im0251im0252im0253im0254im0255im0257im0259im0260im0261im0262im0263im0264im0265im0266im0267im0268im0269im0270im0271im0272im0273im0274im0275im0276im0277im0280im0284im0285im0286im0287im0289im0290im0293im0296im0297im0298im0299im0300im0304im0306im0307im0308im0309im0310im0311im0312im0313im0315im0316im0321im0322im0325im0327im0328im0329im0330im0332im0333im0334im0336im0338im0339im0340im0341im0343im0345im0347im0348im0349im0350im0351im0352im0354im0356im0360im0362im0363im0364im0366im0370im0372im0375im0376im0378im0379im0380im0381im0382im0383im0384im0385im0395im0396im0398im0400im0401DA_0DA_1DA_2DA_3DA_4DA_5DA_6DA_7DA_8DA_9DA_10DA_11DA_12DA_13DA_14DA_15DA_16DA_17DA_18DA_19DA_20DA_21DA_22DA_23DA_24DA_25DA_26DA_27DA_28DA_29DA_30DA_31DA_32DA_33DA_34DA_35DA_36DA_37DA_38DA_39DA_40DA_41DA_42DA_43DA_44DA_45DA_46DA_47DA_48DA_49DA_50DA_51DA_52DA_53DA_54DA_55DA_56DA_57DA_58DA_59DA_60DA_61DA_62DA_63DA_64DA_65DA_66DA_67DA_68DA_69DA_70DA_71DA_72DA_73DA_74DA_75DA_76DA_77DA_78DA_79DA_80DA_81DA_82DA_83DA_84DA_85DA_86DA_87DA_88DA_89DA_90DA_91DA_92DA_93DA_94DA_95DA_96DA_97DA_98DA_99DA_100DA_101DA_102DA_103DA_104DA_105DA_106DA_107DA_108DA_109DA_110DA_111DA_112DA_113DA_114DA_115DA_116DA_117DA_118DA_119DA_120DA_121DA_122DA_123DA_124DA_125DA_126DA_127DA_128DA_129DA_130DA_131DA_132DA_133DA_134DA_135DA_136DA_137DA_138DA_139DA_140DA_141DA_142DA_143DA_144DA_145DA_146DA_147DA_148DA_149DA_150DA_151DA_152DA_153DA_154DA_155DA_156DA_157DA_158DA_159DA_160DA_161DA_162DA_163DA_164DA_165DA_166DA_167DA_168DA_169DA_170DA_171DA_172DA_173DA_174DA_175DA_176DA_177DA_178DA_179DA_180DA_181DA_182DA_183DA_184DA_185DA_186DA_187DA_188DA_189DA_190DA_191DA_192DA_193DA_194DA_195DA_196DA_197DA_198DA_199DA_200DA_201DA_202DA_203DA_204DA_205DA_206DA_207DA_208DA_209DA_210DA_211DA_212DA_213DA_214DA_215DA_216DA_217DA_218DA_219DA_220DA_221DA_222DA_223DA_224DA_225DA_226DA_227DA_228DA_229DA_230DA_231DA_232DA_233DA_234DA_235DA_236DA_237DA_238DA_239DA_240DA_241DA_242DA_243DA_244DA_245DA_246DA_247DA_248DA_249DA_250DA_251DA_252DA_253DA_254DA_255DA_256DA_257DA_258DA_259DA_260DA_261DA_262DA_263DA_264DA_265DA_266DA_267DA_268DA_269DA_270DA_271DA_272DA_273DA_274DA_275DA_276DA_277DA_278DA_279DA_280DA_281DA_282DA_283DA_284DA_285DA_286DA_287DA_288DA_289DA_290DA_291DA_292DA_DA_1DA_DA_2DA_DA_3DA_DA_4DA_DA_5DA_DA_6DA_DA_7DA_DA_8DA_DA_9DA_DA_10DA_DA_11DA_DA_12DA_DA_13DA_DA_14DA_DA_15DA_DA_16DA_DA_17DA_DA_18DA_DA_19DA_DA_20DA_DA_21DA_DA_22DA_DA_23DA_DA_24DA_DA_25DA_DA_26DA_DA_27DA_DA_28DA_DA_29DA_DA_30DA_DA_31DA_DA_32DA_DA_33DA_DA_34DA_DA_35DA_DA_36DA_DA_37DA_DA_38DA_DA_39DA_DA_40DA_DA_41DA_DA_42DA_DA_43DA_DA_44DA_DA_45DA_DA_46DA_DA_47DA_DA_48DA_DA_49DA_DA_50DA_DA_51DA_DA_52DA_DA_53DA_DA_54DA_DA_55DA_DA_56DA_DA_57DA_DA_58DA_DA_59DA_DA_60DA_DA_61DA_DA_62DA_DA_63DA_DA_64DA_DA_65DA_DA_66DA_DA_67DA_DA_68DA_DA_69DA_DA_70DA_DA_71DA_DA_72DA_DA_73DA_DA_74DA_DA_75DA_DA_76DA_DA_77DA_DA_78DA_DA_79DA_DA_80DA_DA_81DA_DA_82DA_DA_83DA_DA_84DA_DA_85DA_DA_86DA_DA_87DA_DA_88DA_DA_89DA_DA_90DA_DA_91DA_DA_92DA_DA_93DA_DA_94DA_DA_95DA_DA_96DA_DA_97DA_DA_98DA_DA_99DA_DA_100DA_DA_101DA_DA_102DA_DA_103DA_DA_104DA_DA_105DA_DA_106DA_DA_107DA_DA_108DA_DA_109DA_DA_110DA_DA_111DA_DA_112DA_DA_113DA_DA_114DA_DA_115DA_DA_116DA_DA_117DA_DA_118DA_DA_119DA_DA_120DA_DA_121DA_DA_122DA_DA_123DA_DA_124DA_DA_125DA_DA_126DA_DA_127DA_DA_128DA_DA_129DA_DA_130DA_DA_131DA_DA_132DA_DA_133DA_DA_134DA_DA_135DA_DA_136DA_DA_137DA_DA_138DA_DA_139DA_DA_140DA_DA_141DA_DA_142DA_DA_143DA_DA_144DA_DA_145DA_DA_146DA_DA_147DA_DA_148DA_DA_149DA_DA_150DA_DA_151DA_DA_152DA_DA_153DA_DA_154DA_DA_155DA_DA_156DA_DA_157DA_DA_158DA_DA_159DA_DA_160DA_DA_161DA_DA_162DA_DA_163DA_DA_164DA_DA_165DA_DA_166DA_DA_167DA_DA_168DA_DA_169DA_DA_170DA_DA_171DA_DA_172DA_DA_173DA_DA_174DA_DA_175DA_DA_176DA_DA_177DA_DA_178DA_DA_179DA_DA_180DA_DA_181DA_DA_182DA_DA_183DA_DA_184DA_DA_185DA_DA_186DA_DA_187DA_DA_188DA_DA_189DA_DA_190DA_DA_191DA_DA_192DA_DA_193DA_DA_194DA_DA_195DA_DA_196DA_DA_197DA_DA_198DA_DA_199DA_DA_200DA_DA_201DA_DA_202DA_DA_203DA_DA_204DA_DA_205DA_DA_206DA_DA_207DA_DA_208DA_DA_209DA_DA_210DA_DA_211DA_DA_212DA_DA_213DA_DA_214DA_DA_215DA_DA_216DA_DA_217DA_DA_218DA_DA_219DA_DA_220DA_DA_221DA_DA_222DA_DA_223DA_DA_224DA_DA_225DA_DA_226DA_DA_227DA_DA_228DA_DA_229DA_DA_230DA_DA_231DA_DA_232DA_DA_233DA_DA_234DA_DA_235DA_DA_236DA_DA_237DA_DA_238DA_DA_239DA_DA_240DA_DA_241DA_DA_242DA_DA_243DA_DA_244DA_DA_245DA_DA_246DA_DA_247DA_DA_248DA_DA_249DA_DA_250DA_DA_251DA_DA_252DA_DA_253DA_DA_254DA_DA_255DA_DA_256DA_DA_257DA_DA_258DA_DA_259DA_DA_260DA_DA_261DA_DA_262DA_DA_263DA_DA_264DA_DA_265DA_DA_266DA_DA_267DA_DA_268DA_DA_269DA_DA_270DA_DA_271DA_DA_272DA_DA_273DA_DA_274DA_DA_275DA_DA_276DA_DA_277DA_DA_278DA_DA_279DA_DA_280DA_DA_281DA_DA_282DA_DA_283DA_DA_284DA_DA_285DA_DA_286DA_DA_287DA_DA_288DA_DA_289DA_DA_290DA_DA_291DA_DA_292DA_DA_293DA_DA_294DA_DA_295DA_DA_296DA_DA_297DA_DA_298DA_DA_299DA_DA_300DA_DA_301DA_DA_302DA_DA_303DA_DA_304DA_DA_305DA_DA_306DA_DA_307DA_DA_308DA_DA_309DA_DA_310DA_DA_311DA_DA_312DA_DA_313DA_DA_314DA_DA_315DA_DA_316DA_DA_317DA_DA_318DA_DA_319DA_DA_320DA_DA_321DA_DA_322DA_DA_323DA_DA_324DA_DA_325DA_DA_326DA_DA_327DA_DA_328DA_DA_329DA_DA_330DA_DA_331DA_DA_332DA_DA_333DA_DA_334DA_DA_335DA_DA_336DA_DA_337DA_DA_338DA_DA_339DA_DA_340DA_DA_341DA_DA_342DA_DA_343DA_DA_344DA_DA_345DA_DA_346DA_DA_347DA_DA_348DA_DA_349DA_DA_350DA_DA_351DA_DA_352DA_DA_353DA_DA_354DA_DA_355DA_DA_356DA_DA_357DA_DA_358DA_DA_359DA_DA_360DA_DA_361DA_DA_362DA_DA_363DA_DA_364DA_DA_365DA_DA_366DA_DA_367DA_DA_368DA_DA_369DA_DA_370DA_DA_371DA_DA_372DA_DA_373DA_DA_374DA_DA_375DA_DA_376DA_DA_377DA_DA_378DA_DA_379DA_DA_380DA_DA_381DA_DA_382DA_DA_383DA_DA_384DA_DA_385DA_DA_386DA_DA_387DA_DA_388DA_DA_389DA_DA_390DA_DA_391DA_DA_392DA_DA_393DA_DA_394DA_DA_395DA_DA_396DA_DA_397DA_DA_398DA_DA_399DA_DA_400DA_DA_401DA_DA_402DA_DA_403DA_DA_404DA_DA_405DA_DA_406DA_DA_407DA_DA_408DA_DA_409DA_DA_410DA_DA_411',\n",
       " 'DR': 396.0,\n",
       " 'NORMAL': 395.0,\n",
       " 'MH': 135.0,\n",
       " 'ODC': 211.0,\n",
       " 'TSLN': 125.0,\n",
       " 'ARMD': 126.0,\n",
       " 'DN': 130.0,\n",
       " 'MYA': 71.0,\n",
       " 'BRVO': 63.0,\n",
       " 'ODP': 105.0,\n",
       " 'CRVO': 104.0,\n",
       " 'CNV': 120.0,\n",
       " 'RS': 90.0,\n",
       " 'ODE': 135.0,\n",
       " 'LS': 76.0,\n",
       " 'CSR': 115.0,\n",
       " 'HTR': 63.0,\n",
       " 'ASR': 91.0,\n",
       " 'CRS': 38.0,\n",
       " 'OTHER': 209.0}"
      ]
     },
     "execution_count": 7,
     "metadata": {},
     "output_type": "execute_result"
    }
   ],
   "source": [
    "counts = labels_df.sum(axis=0)\n",
    "counts.to_dict()"
   ]
  },
  {
   "cell_type": "code",
   "execution_count": null,
   "metadata": {},
   "outputs": [],
   "source": [
    "import random\n",
    "import numpy as np\n",
    "from collections import Counter\n",
    "from sklearn.neighbors import NearestNeighbors\n",
    "\n",
    "def calculate_mean_ir(D, labels):\n",
    "    irs = [calculate_ir_per_label(D, label) for label in labels]\n",
    "    return np.mean(irs)\n",
    "\n",
    "def calculate_ir_per_label(D, label):\n",
    "    label_counts = Counter(label in instance['labels'] for instance in D)\n",
    "    majority_count = max(label_counts.values())\n",
    "    minority_count = label_counts[True] if True in label_counts else 0\n",
    "    return majority_count / minority_count if minority_count > 0 else float('inf')\n",
    "\n",
    "def get_all_instances_of_label(D, label):\n",
    "    return [instance for instance in D if label in instance['labels']]\n",
    "\n",
    "def new_sample(sample, ref_neigh, neighbors):\n",
    "    synth_smpl = {'features': [], 'labels': []}\n",
    "    \n",
    "    for i, feat in enumerate(sample['features']):\n",
    "        if isinstance(feat, (int, float)):\n",
    "            diff = ref_neigh['features'][i] - sample['features'][i]\n",
    "            offset = diff * random.uniform(0, 1)\n",
    "            value = sample['features'][i] + offset\n",
    "        else:\n",
    "            values = [n['features'][i] for n in neighbors]\n",
    "            value = Counter(values).most_common(1)[0][0]\n",
    "        synth_smpl['features'].append(value)\n",
    "    \n",
    "    lbl_counts = Counter(sample['labels'])\n",
    "    for neighbor in neighbors:\n",
    "        lbl_counts.update(neighbor['labels'])\n",
    "    \n",
    "    labels = [label for label, count in lbl_counts.items() if count > (len(neighbors) + 1) / 2]\n",
    "    synth_smpl['labels'] = labels\n",
    "    \n",
    "    return synth_smpl\n",
    "\n",
    "def preprocess_dataset(D, k):\n",
    "    labels = set(label for instance in D for label in instance['labels'])\n",
    "    mean_ir = calculate_mean_ir(D, labels)\n",
    "    \n",
    "    for label in labels:\n",
    "        ir_label = calculate_ir_per_label(D, label)\n",
    "        if ir_label > mean_ir:\n",
    "            min_bag = get_all_instances_of_label(D, label)\n",
    "            features = [instance['features'] for instance in min_bag]\n",
    "            nn = NearestNeighbors(n_neighbors=k).fit(features)\n",
    "            distances, indices = nn.kneighbors(features)\n",
    "            \n",
    "            for i, sample in enumerate(min_bag):\n",
    "                neighbors = [min_bag[idx] for idx in indices[i]]\n",
    "                ref_neigh = random.choice(neighbors)\n",
    "                synth_smpl = new_sample(sample, ref_neigh, neighbors)\n",
    "                D.append(synth_smpl)\n",
    "    \n",
    "    return D\n",
    "\n",
    "# Example usage:\n",
    "# dataset = [{'features': [0.1, 0.2], 'labels': ['A']}, {'features': [0.4, 0.5], 'labels': ['B']}, ...]\n",
    "# k = 5\n",
    "# preprocessed_dataset = preprocess_dataset(dataset, k)\n"
   ]
  }
 ],
 "metadata": {
  "kernelspec": {
   "display_name": "multilabel",
   "language": "python",
   "name": "python3"
  },
  "language_info": {
   "codemirror_mode": {
    "name": "ipython",
    "version": 3
   },
   "file_extension": ".py",
   "mimetype": "text/x-python",
   "name": "python",
   "nbconvert_exporter": "python",
   "pygments_lexer": "ipython3",
   "version": "3.9.18"
  }
 },
 "nbformat": 4,
 "nbformat_minor": 2
}
