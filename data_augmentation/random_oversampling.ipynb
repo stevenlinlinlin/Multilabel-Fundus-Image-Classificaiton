{
 "cells": [
  {
   "cell_type": "code",
   "execution_count": 1,
   "metadata": {},
   "outputs": [],
   "source": [
    "import albumentations as A\n",
    "import cv2\n",
    "import os\n",
    "from pathlib import Path\n",
    "import pandas as pd"
   ]
  },
  {
   "cell_type": "code",
   "execution_count": 2,
   "metadata": {},
   "outputs": [
    {
     "data": {
      "text/plain": [
       "DR        396\n",
       "NORMAL    395\n",
       "MH        135\n",
       "ODC       211\n",
       "TSLN      125\n",
       "ARMD      126\n",
       "DN        130\n",
       "MYA        71\n",
       "BRVO       63\n",
       "ODP        50\n",
       "CRVO       44\n",
       "CNV        48\n",
       "RS         47\n",
       "ODE        46\n",
       "LS         37\n",
       "CSR        29\n",
       "HTR        28\n",
       "ASR        26\n",
       "CRS        24\n",
       "OTHER     209\n",
       "dtype: int64"
      ]
     },
     "execution_count": 2,
     "metadata": {},
     "output_type": "execute_result"
    }
   ],
   "source": [
    "labels_df = pd.read_csv('../data/fundus/MuReD/train_data.csv')\n",
    "labels_df['ID'] = labels_df['ID'].astype(str)\n",
    "class_counts = labels_df.iloc[:, 1:].sum(axis=0)\n",
    "class_counts"
   ]
  },
  {
   "cell_type": "code",
   "execution_count": 3,
   "metadata": {},
   "outputs": [],
   "source": [
    "# transform = A.Compose([\n",
    "#     A.Rotate(limit=45, p=0.5),  # 旋轉，概率為0.5\n",
    "#     A.HorizontalFlip(p=0.5),    # 水平翻轉，概率為0.5\n",
    "# ])\n",
    "\n",
    "transform = A.Compose([\n",
    "    A.OneOf([\n",
    "        A.Rotate(limit=45, p=1.0),  # 旋转，当被选择时应用的概率为1.0\n",
    "        A.HorizontalFlip(p=1.0),    # 水平翻转，当被选择时应用的概率为1.0\n",
    "        A.RandomBrightnessContrast(brightness_limit=0.2, contrast_limit=0.2, p=1.0),  # 随机亮度对比度调整\n",
    "        A.HueSaturationValue(hue_shift_limit=20, sat_shift_limit=30, val_shift_limit=20, p=1.0)  # 色调饱和度调整\n",
    "    ], p=1)\n",
    "])"
   ]
  },
  {
   "cell_type": "code",
   "execution_count": 4,
   "metadata": {},
   "outputs": [
    {
     "data": {
      "text/plain": [
       "DR        469\n",
       "NORMAL    395\n",
       "MH        147\n",
       "ODC       247\n",
       "TSLN      139\n",
       "ARMD      197\n",
       "DN        155\n",
       "MYA       103\n",
       "BRVO      106\n",
       "ODP       117\n",
       "CRVO      110\n",
       "CNV       117\n",
       "RS        104\n",
       "ODE       100\n",
       "LS        100\n",
       "CSR       100\n",
       "HTR       113\n",
       "ASR       100\n",
       "CRS       100\n",
       "OTHER     261\n",
       "dtype: int64"
      ]
     },
     "execution_count": 4,
     "metadata": {},
     "output_type": "execute_result"
    }
   ],
   "source": [
    "images_path = Path(\"../data/fundus/MuReD/images/images\") # training set images path\n",
    "da_images_path = Path(\"../data/fundus/MuReD/images/randomDA\") # augmented images path\n",
    "\n",
    "ID_name = 1\n",
    "while True:\n",
    "    class_counts = labels_df.iloc[:, 1:].sum(axis=0)\n",
    "    if all(class_counts >= 100):\n",
    "        break \n",
    "    \n",
    "    for class_name, count in class_counts.items():\n",
    "        if count >= 100:\n",
    "            continue\n",
    "\n",
    "        images_to_augment = labels_df[labels_df[class_name] == 1]\n",
    "        img_rows = images_to_augment.sample(n=min(100-count, count))\n",
    "        # print(img_rows)\n",
    "        for index, img_row in img_rows.iterrows():\n",
    "            img_name = img_row['ID']\n",
    "            if img_name.startswith('DA'):\n",
    "                continue\n",
    "            \n",
    "            image_path = images_path / f\"{img_name}.png\" if os.path.exists(images_path / f\"{img_name}.png\") else images_path / f\"{img_name}.tif\"\n",
    "            image = cv2.imread(str(image_path))\n",
    "            if image is not None:\n",
    "                image = cv2.cvtColor(image, cv2.COLOR_BGR2RGB)\n",
    "                \n",
    "                transformed = transform(image=image)\n",
    "                transformed_image = transformed[\"image\"]\n",
    "\n",
    "                new_img_name = f\"DA_{ID_name}.png\"\n",
    "                ID_name += 1\n",
    "                new_img_path = da_images_path / new_img_name\n",
    "                cv2.imwrite(str(new_img_path), cv2.cvtColor(transformed_image, cv2.COLOR_RGB2BGR))\n",
    "                \n",
    "                new_row = img_row.copy()\n",
    "                new_row['ID'] = new_img_name.replace('.png', '')\n",
    "                labels_df = labels_df._append(new_row, ignore_index=True)\n",
    "\n",
    "        break\n",
    "    # print(class_counts)\n",
    "    # print(\"xxxxxxxxxxxxxxxxxxxxxxxx\")\n",
    "            \n",
    "class_counts"
   ]
  },
  {
   "cell_type": "code",
   "execution_count": 5,
   "metadata": {},
   "outputs": [],
   "source": [
    "labels_df.to_csv('../data/fundus/MuReD/ros_train_data.csv', index=False)"
   ]
  }
 ],
 "metadata": {
  "kernelspec": {
   "display_name": "multilabel",
   "language": "python",
   "name": "python3"
  },
  "language_info": {
   "codemirror_mode": {
    "name": "ipython",
    "version": 3
   },
   "file_extension": ".py",
   "mimetype": "text/x-python",
   "name": "python",
   "nbconvert_exporter": "python",
   "pygments_lexer": "ipython3",
   "version": "3.9.18"
  }
 },
 "nbformat": 4,
 "nbformat_minor": 2
}
