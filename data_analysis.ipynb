{
 "cells": [
  {
   "cell_type": "markdown",
   "metadata": {},
   "source": [
    "# Image size"
   ]
  },
  {
   "cell_type": "code",
   "execution_count": 4,
   "metadata": {},
   "outputs": [
    {
     "name": "stdout",
     "output_type": "stream",
     "text": [
      "The size of the image 'data/fundus/MuReD/images/images/4.png' is 1390 pixels wide and 1392 pixels high.\n"
     ]
    }
   ],
   "source": [
    "from PIL import Image\n",
    "\n",
    "def get_image_size(file_path):\n",
    "    try:\n",
    "        with Image.open(file_path) as img:\n",
    "            width, height = img.size\n",
    "            return width, height\n",
    "    except Exception as e:\n",
    "        print(f\"Error: {e}\")\n",
    "        return None\n",
    "\n",
    "# Replace 'your_image.png' with the path to your PNG image file\n",
    "image_path = 'data/fundus/MuReD/images/images/4.png'\n",
    "\n",
    "size = get_image_size(image_path)\n",
    "\n",
    "if size:\n",
    "    print(f\"The size of the image '{image_path}' is {size[0]} pixels wide and {size[1]} pixels high.\")\n"
   ]
  },
  {
   "cell_type": "markdown",
   "metadata": {},
   "source": [
    "# Class number counts"
   ]
  },
  {
   "cell_type": "code",
   "execution_count": 11,
   "metadata": {},
   "outputs": [
    {
     "name": "stdout",
     "output_type": "stream",
     "text": [
      "---MuReD Train data---\n",
      "DR        396\n",
      "NORMAL    395\n",
      "MH        135\n",
      "ODC       211\n",
      "TSLN      125\n",
      "ARMD      126\n",
      "DN        130\n",
      "MYA        71\n",
      "BRVO       63\n",
      "ODP        50\n",
      "CRVO       44\n",
      "CNV        48\n",
      "RS         47\n",
      "ODE        46\n",
      "LS         37\n",
      "CSR        29\n",
      "HTR        28\n",
      "ASR        26\n",
      "CRS        24\n",
      "OTHER     209\n",
      "dtype: int64\n",
      "---RFMiD Train data---\n",
      "normal    401\n",
      "DR        376\n",
      "ARMD      100\n",
      "MH        317\n",
      "DN        138\n",
      "MYA       101\n",
      "BRVO       73\n",
      "TSLN      186\n",
      "ERM        14\n",
      "LS         47\n",
      "MS         15\n",
      "CSR        37\n",
      "ODC       282\n",
      "CRVO       28\n",
      "TV          6\n",
      "AH         16\n",
      "ODP        65\n",
      "ODE        58\n",
      "ST          5\n",
      "AION       17\n",
      "PT         11\n",
      "RT         14\n",
      "RS         43\n",
      "CRS        32\n",
      "EDN        15\n",
      "RPEC       22\n",
      "MHL        11\n",
      "RP          6\n",
      "OTHER      34\n",
      "dtype: int64\n"
     ]
    }
   ],
   "source": [
    "# train data\n",
    "import pandas as pd\n",
    "\n",
    "# Load the label files\n",
    "labels_df1 = pd.read_csv('data/fundus/MuReD/train_data.csv')\n",
    "labels_df2 = pd.read_csv('data/fundus/RFMiD/Training_Set/new_RFMiD_Training_Labels.csv')\n",
    "\n",
    "# Assuming the first column is an ID or similar and should be excluded\n",
    "counts1 = labels_df1.iloc[:, 1:].sum(axis=0)  # axis=0 sums along the columns\n",
    "counts2 = labels_df2.iloc[:, 1:].sum(axis=0)\n",
    "\n",
    "print('---MuReD Train data---')\n",
    "print(counts1)\n",
    "print('---RFMiD Train data---')\n",
    "print(counts2)"
   ]
  },
  {
   "cell_type": "code",
   "execution_count": 9,
   "metadata": {},
   "outputs": [
    {
     "name": "stdout",
     "output_type": "stream",
     "text": [
      "---MuReD Test Data---\n",
      "DR        99\n",
      "NORMAL    98\n",
      "MH        34\n",
      "ODC       52\n",
      "TSLN      31\n",
      "ARMD      32\n",
      "DN        32\n",
      "MYA       18\n",
      "BRVO      16\n",
      "ODP       12\n",
      "CRVO      11\n",
      "CNV       12\n",
      "RS        11\n",
      "ODE       11\n",
      "LS         9\n",
      "CSR        7\n",
      "HTR        7\n",
      "ASR        7\n",
      "CRS        6\n",
      "OTHER     52\n",
      "dtype: int64\n",
      "---RFMiD Test Data---\n",
      "normal    134\n",
      "DR        132\n",
      "ARMD       38\n",
      "MH        102\n",
      "DN         46\n",
      "MYA        34\n",
      "BRVO       23\n",
      "TSLN       65\n",
      "ERM         7\n",
      "LS         17\n",
      "MS          5\n",
      "CSR        11\n",
      "ODC        72\n",
      "CRVO        8\n",
      "TV          2\n",
      "AH          4\n",
      "ODP        26\n",
      "ODE        21\n",
      "ST          4\n",
      "AION        5\n",
      "PT          2\n",
      "RT          6\n",
      "RS         14\n",
      "CRS        11\n",
      "EDN         5\n",
      "RPEC        6\n",
      "MHL         3\n",
      "RP          2\n",
      "OTHER      21\n",
      "dtype: int64\n"
     ]
    }
   ],
   "source": [
    "# test_data\n",
    "import pandas as pd\n",
    "\n",
    "# Load the label files\n",
    "labels_df1 = pd.read_csv('data/fundus/MuReD/test_data.csv')\n",
    "labels_df2 = pd.read_csv('data/fundus/RFMiD/Evaluation_Set/new_RFMiD_Validation_Labels.csv')\n",
    "\n",
    "# Assuming the first column is an ID or similar and should be excluded\n",
    "counts1 = labels_df1.iloc[:, 1:].sum(axis=0)  # axis=0 sums along the columns\n",
    "counts2 = labels_df2.iloc[:, 1:].sum(axis=0)\n",
    "\n",
    "print('---MuReD Test Data---')\n",
    "print(counts1)\n",
    "print('---RFMiD Test Data---')\n",
    "print(counts2)"
   ]
  },
  {
   "cell_type": "markdown",
   "metadata": {},
   "source": [
    "# Data distridution analsis"
   ]
  },
  {
   "cell_type": "code",
   "execution_count": 14,
   "metadata": {},
   "outputs": [
    {
     "name": "stderr",
     "output_type": "stream",
     "text": [
      "/home/tcl/anaconda3/envs/multilabel/lib/python3.9/site-packages/seaborn/_oldcore.py:1498: FutureWarning: is_categorical_dtype is deprecated and will be removed in a future version. Use isinstance(dtype, CategoricalDtype) instead\n",
      "  if pd.api.types.is_categorical_dtype(vector):\n",
      "/home/tcl/anaconda3/envs/multilabel/lib/python3.9/site-packages/seaborn/_oldcore.py:1119: FutureWarning: use_inf_as_na option is deprecated and will be removed in a future version. Convert inf values to NaN before operating instead.\n",
      "  with pd.option_context('mode.use_inf_as_na', True):\n"
     ]
    },
    {
     "data": {
      "image/png": "[encoded data removed]",
      "text/plain": [
       "<Figure size 1000x600 with 1 Axes>"
      ]
     },
     "metadata": {},
     "output_type": "display_data"
    }
   ],
   "source": [
    "import pandas as pd\n",
    "import matplotlib.pyplot as plt\n",
    "import seaborn as sns\n",
    "\n",
    "df = pd.read_csv('./data/fundus/MuReD/train_data.csv')\n",
    "\n",
    "label_counts = df.drop('ID', axis=1).sum(axis=1)\n",
    "count_frequencies = label_counts.value_counts().sort_index()\n",
    "\n",
    "plt.figure(figsize=(10, 6))\n",
    "sns.histplot(label_counts, bins=range(int(label_counts.max())+2), kde=False)\n",
    "plt.title('MuReD Label Count Distribution')\n",
    "plt.xlabel('Number of Active Labels')\n",
    "plt.ylabel('Frequency')\n",
    "plt.xticks(range(int(label_counts.max())+1))\n",
    "# plt.grid(True)\n",
    "\n",
    "for index, value in count_frequencies.items():\n",
    "    plt.text(index, value, str(value), ha='left', va='bottom')\n",
    "\n",
    "plt.show()"
   ]
  },
  {
   "cell_type": "code",
   "execution_count": 16,
   "metadata": {},
   "outputs": [
    {
     "name": "stderr",
     "output_type": "stream",
     "text": [
      "/home/tcl/anaconda3/envs/multilabel/lib/python3.9/site-packages/seaborn/_oldcore.py:1498: FutureWarning: is_categorical_dtype is deprecated and will be removed in a future version. Use isinstance(dtype, CategoricalDtype) instead\n",
      "  if pd.api.types.is_categorical_dtype(vector):\n",
      "/home/tcl/anaconda3/envs/multilabel/lib/python3.9/site-packages/seaborn/_oldcore.py:1119: FutureWarning: use_inf_as_na option is deprecated and will be removed in a future version. Convert inf values to NaN before operating instead.\n",
      "  with pd.option_context('mode.use_inf_as_na', True):\n"
     ]
    },
    {
     "data": {
      "image/png": "[encoded data removed]",
      "text/plain": [
       "<Figure size 1000x600 with 1 Axes>"
      ]
     },
     "metadata": {},
     "output_type": "display_data"
    }
   ],
   "source": [
    "df = pd.read_csv('./data/fundus/RFMiD/Training_Set/new_RFMiD_Training_Labels.csv')\n",
    "\n",
    "label_counts = df.drop('ID', axis=1).sum(axis=1)\n",
    "count_frequencies = label_counts.value_counts().sort_index()\n",
    "\n",
    "plt.figure(figsize=(10, 6))\n",
    "sns.histplot(label_counts, bins=range(int(label_counts.max())+2), kde=False)\n",
    "plt.title('RFMiD Label Count Distribution')\n",
    "plt.xlabel('Number of Active Labels')\n",
    "plt.ylabel('Frequency')\n",
    "plt.xticks(range(int(label_counts.max())+1))\n",
    "# plt.grid(True)\n",
    "\n",
    "for index, value in count_frequencies.items():\n",
    "    plt.text(index, value, str(value), ha='left', va='bottom')\n",
    "\n",
    "plt.show()"
   ]
  },
  {
   "cell_type": "markdown",
   "metadata": {},
   "source": [
    "# Image data statistics (mean, std)"
   ]
  },
  {
   "cell_type": "code",
   "execution_count": null,
   "metadata": {},
   "outputs": [],
   "source": [
    "import torch\n",
    "from torchvision import datasets, transforms\n",
    "from torch.utils.data import DataLoader, ConcatDataset\n",
    "import numpy as np\n",
    "\n",
    "transform = transforms.Compose([\n",
    "    transforms.Resize((256, 256)),\n",
    "    transforms.ToTensor()\n",
    "])\n",
    "\n",
    "dataset1 = datasets.ImageFolder('path_to_image_folder_1', transform=transform)\n",
    "dataset2 = datasets.ImageFolder('path_to_image_folder_2', transform=transform)\n",
    "\n",
    "combined_dataset = ConcatDataset([dataset1, dataset2])\n",
    "combined_dataloader = DataLoader(combined_dataset, batch_size=10, shuffle=False)\n",
    "\n",
    "def compute_mean_std(loader):\n",
    "    mean = 0.\n",
    "    std = 0.\n",
    "    total_images_count = 0\n",
    "\n",
    "    for images, _ in loader:\n",
    "        batch_samples = images.size(0)\n",
    "        images = images.view(batch_samples, images.size(1), -1)\n",
    "        mean += images.mean(2).sum(0)\n",
    "        std += images.std(2).sum(0)\n",
    "        total_images_count += batch_samples\n",
    "\n",
    "    mean /= total_images_count\n",
    "    std /= total_images_count\n",
    "\n",
    "    return mean, std\n",
    "\n",
    "mean, std = compute_mean_std(combined_dataloader)\n",
    "print(f\"Computed Mean: {mean}, Computed Std: {std}\")\n"
   ]
  }
 ],
 "metadata": {
  "kernelspec": {
   "display_name": "multilabel",
   "language": "python",
   "name": "python3"
  },
  "language_info": {
   "codemirror_mode": {
    "name": "ipython",
    "version": 3
   },
   "file_extension": ".py",
   "mimetype": "text/x-python",
   "name": "python",
   "nbconvert_exporter": "python",
   "pygments_lexer": "ipython3",
   "version": "3.9.18"
  }
 },
 "nbformat": 4,
 "nbformat_minor": 2
}
