{
 "cells": [
  {
   "cell_type": "code",
   "execution_count": 2,
   "metadata": {},
   "outputs": [
    {
     "name": "stdout",
     "output_type": "stream",
     "text": [
      "The size of the image 'data/fundus/Training_Set/Training/1.png' is 2144 pixels wide and 1424 pixels high.\n"
     ]
    }
   ],
   "source": [
    "from PIL import Image\n",
    "\n",
    "def get_image_size(file_path):\n",
    "    try:\n",
    "        with Image.open(file_path) as img:\n",
    "            width, height = img.size\n",
    "            return width, height\n",
    "    except Exception as e:\n",
    "        print(f\"Error: {e}\")\n",
    "        return None\n",
    "\n",
    "# Replace 'your_image.png' with the path to your PNG image file\n",
    "image_path = 'data/fundus/Training_Set/Training/1.png'\n",
    "\n",
    "size = get_image_size(image_path)\n",
    "\n",
    "if size:\n",
    "    print(f\"The size of the image '{image_path}' is {size[0]} pixels wide and {size[1]} pixels high.\")\n"
   ]
  },
  {
   "cell_type": "code",
   "execution_count": 2,
   "metadata": {},
   "outputs": [
    {
     "data": {
      "text/plain": [
       "{'ID': 1844160,\n",
       " 'DR': 376,\n",
       " 'ARMD': 100,\n",
       " 'MH': 317,\n",
       " 'DN': 138,\n",
       " 'MYA': 101,\n",
       " 'BRVO': 73,\n",
       " 'TSLN': 186,\n",
       " 'ERM': 14,\n",
       " 'LS': 47,\n",
       " 'MS': 15,\n",
       " 'CSR': 37,\n",
       " 'ODC': 282,\n",
       " 'CRVO': 28,\n",
       " 'TV': 6,\n",
       " 'AH': 16,\n",
       " 'ODP': 65,\n",
       " 'ODE': 58,\n",
       " 'ST': 5,\n",
       " 'AION': 17,\n",
       " 'PT': 11,\n",
       " 'RT': 14,\n",
       " 'RS': 43,\n",
       " 'CRS': 32,\n",
       " 'EDN': 15,\n",
       " 'RPEC': 22,\n",
       " 'MHL': 11,\n",
       " 'RP': 6,\n",
       " 'OTHER': 34}"
      ]
     },
     "execution_count": 2,
     "metadata": {},
     "output_type": "execute_result"
    }
   ],
   "source": [
    "import pandas as pd\n",
    "\n",
    "# 載入標籤文件\n",
    "labels_df = pd.read_csv('data/fundus/Training_Set/new_RFMiD_Training_Labels.csv')\n",
    "\n",
    "# 統計每個欄位（即每個標籤類別）中值為1的數量\n",
    "counts = labels_df.sum(axis=0)  # axis=0 表示沿著列方向進行加總\n",
    "\n",
    "counts.to_dict()"
   ]
  },
  {
   "cell_type": "code",
   "execution_count": 1,
   "metadata": {},
   "outputs": [
    {
     "data": {
      "text/plain": [
       "{'ID': 5536128,\n",
       " 'DR': 517,\n",
       " 'ARMD': 119,\n",
       " 'MH': 372,\n",
       " 'DN': 214,\n",
       " 'MYA': 103,\n",
       " 'BRVO': 109,\n",
       " 'TSLN': 250,\n",
       " 'ERM': 147,\n",
       " 'LS': 136,\n",
       " 'MS': 124,\n",
       " 'CSR': 128,\n",
       " 'ODC': 435,\n",
       " 'CRVO': 100,\n",
       " 'TV': 100,\n",
       " 'AH': 100,\n",
       " 'ODP': 198,\n",
       " 'ODE': 105,\n",
       " 'ST': 100,\n",
       " 'AION': 100,\n",
       " 'PT': 100,\n",
       " 'RT': 100,\n",
       " 'RS': 102,\n",
       " 'CRS': 112,\n",
       " 'EDN': 101,\n",
       " 'RPEC': 100,\n",
       " 'MHL': 101,\n",
       " 'RP': 106,\n",
       " 'OTHER': 100}"
      ]
     },
     "execution_count": 1,
     "metadata": {},
     "output_type": "execute_result"
    }
   ],
   "source": [
    "import pandas as pd\n",
    "\n",
    "# 載入標籤文件\n",
    "labels_df = pd.read_csv('data/fundus/Training_Set/new_RFMiD_Training_Labels_augmented.csv')\n",
    "\n",
    "# 統計每個欄位（即每個標籤類別）中值為1的數量\n",
    "counts = labels_df.sum(axis=0)  # axis=0 表示沿著列方向進行加總\n",
    "\n",
    "counts.to_dict()"
   ]
  }
 ],
 "metadata": {
  "kernelspec": {
   "display_name": "multilabel",
   "language": "python",
   "name": "python3"
  },
  "language_info": {
   "codemirror_mode": {
    "name": "ipython",
    "version": 3
   },
   "file_extension": ".py",
   "mimetype": "text/x-python",
   "name": "python",
   "nbconvert_exporter": "python",
   "pygments_lexer": "ipython3",
   "version": "3.9.18"
  }
 },
 "nbformat": 4,
 "nbformat_minor": 2
}
