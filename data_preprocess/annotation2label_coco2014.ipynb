{
 "cells": [
  {
   "cell_type": "code",
   "execution_count": 1,
   "metadata": {},
   "outputs": [],
   "source": [
    "import json\n",
    "import pandas as pd\n",
    "\n",
    "with open('./annotations/instances_train2014.json') as f:\n",
    "    data = json.load(f)\n",
    "\n",
    "categories = {cat['id']: cat['name'] for cat in data['categories']}\n",
    "\n",
    "image_labels = {}\n",
    "for annotation in data['annotations']:\n",
    "    image_id = annotation['image_id']\n",
    "    category = categories[annotation['category_id']]\n",
    "    if image_id not in image_labels:\n",
    "        image_labels[image_id] = set()\n",
    "    image_labels[image_id].add(category)\n",
    "\n",
    "image_ids = list(image_labels.keys())\n",
    "labels = [list(image_labels[id]) for id in image_ids]\n",
    "df = pd.DataFrame({'image_id': image_ids, 'labels': labels})\n",
    "\n",
    "for category in categories.values():\n",
    "    df[category] = df['labels'].apply(lambda x: 1 if category in x else 0)\n",
    "\n",
    "df.drop('labels', axis=1, inplace=True)\n",
    "\n",
    "df.to_csv('train_mscoco2014.csv', index=False)"
   ]
  },
  {
   "cell_type": "code",
   "execution_count": 2,
   "metadata": {},
   "outputs": [],
   "source": [
    "import json\n",
    "import pandas as pd\n",
    "\n",
    "with open('./annotations/instances_val2014.json') as f:\n",
    "    data = json.load(f)\n",
    "\n",
    "categories = {cat['id']: cat['name'] for cat in data['categories']}\n",
    "\n",
    "image_labels = {}\n",
    "for annotation in data['annotations']:\n",
    "    image_id = annotation['image_id']\n",
    "    category = categories[annotation['category_id']]\n",
    "    if image_id not in image_labels:\n",
    "        image_labels[image_id] = set()\n",
    "    image_labels[image_id].add(category)\n",
    "\n",
    "image_ids = list(image_labels.keys())\n",
    "labels = [list(image_labels[id]) for id in image_ids]\n",
    "df = pd.DataFrame({'image_id': image_ids, 'labels': labels})\n",
    "\n",
    "for category in categories.values():\n",
    "    df[category] = df['labels'].apply(lambda x: 1 if category in x else 0)\n",
    "\n",
    "df.drop('labels', axis=1, inplace=True)\n",
    "\n",
    "df.to_csv('val_mscoco2014.csv', index=False)"
   ]
  }
 ],
 "metadata": {
  "kernelspec": {
   "display_name": "multilabel",
   "language": "python",
   "name": "python3"
  },
  "language_info": {
   "codemirror_mode": {
    "name": "ipython",
    "version": 3
   },
   "file_extension": ".py",
   "mimetype": "text/x-python",
   "name": "python",
   "nbconvert_exporter": "python",
   "pygments_lexer": "ipython3",
   "version": "3.9.18"
  }
 },
 "nbformat": 4,
 "nbformat_minor": 2
}
