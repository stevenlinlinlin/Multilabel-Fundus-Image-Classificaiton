{
 "cells": [
  {
   "cell_type": "code",
   "execution_count": 4,
   "metadata": {},
   "outputs": [
    {
     "name": "stdout",
     "output_type": "stream",
     "text": [
      "CSV file has been created successfully!\n"
     ]
    }
   ],
   "source": [
    "import os\n",
    "import pandas as pd\n",
    "import xml.etree.ElementTree as ET\n",
    "\n",
    "def parse_xml(xml_file):\n",
    "    tree = ET.parse(xml_file)\n",
    "    root = tree.getroot()\n",
    "    labels = []\n",
    "    for obj in root.findall('object'):\n",
    "        labels.append(obj.find('name').text)\n",
    "    return labels\n",
    "\n",
    "def encode_labels(labels, label_index):\n",
    "    label_vector = [0] * len(label_index)\n",
    "    for label in labels:\n",
    "        if label in label_index:\n",
    "            label_vector[label_index[label]] = 1\n",
    "    return label_vector\n",
    "\n",
    "def main():\n",
    "    # 定義類別和標籤索引\n",
    "    categories = ['aeroplane', 'bicycle', 'bird', 'boat', 'bottle', 'bus', 'car', 'cat', 'chair', 'cow', 'diningtable', 'dog', 'horse', 'motorbike', 'person', 'pottedplant', 'sheep', 'sofa', 'train', 'tvmonitor']\n",
    "    label_index = {category: idx for idx, category in enumerate(categories)}\n",
    "\n",
    "    # 文件路徑設定\n",
    "    # xml_dir = './VOC2012_train_val/Annotations'  # 修改為你的 XML 文件夾路徑\n",
    "    xml_dir = './VOC2012_test/Annotations'  # 修改為你的 XML 文件夾路徑\n",
    "    image_files = os.listdir(xml_dir)\n",
    "\n",
    "    # 處理每個 XML 文件\n",
    "    data = []\n",
    "    for xml_file in image_files:\n",
    "        labels = parse_xml(os.path.join(xml_dir, xml_file))\n",
    "        label_vector = encode_labels(labels, label_index)\n",
    "        file_name = xml_file[:-4]  # 去掉 \".xml\" 擴展名\n",
    "        data.append([file_name] + label_vector)\n",
    "\n",
    "    # 保存到 CSV\n",
    "    columns = ['image_name'] + categories\n",
    "    df = pd.DataFrame(data, columns=columns)\n",
    "    df.to_csv('test_label.csv', index=False)\n",
    "    print('CSV file has been created successfully!')\n",
    "\n",
    "if __name__ == '__main__':\n",
    "    main()\n"
   ]
  }
 ],
 "metadata": {
  "kernelspec": {
   "display_name": "multilabel",
   "language": "python",
   "name": "python3"
  },
  "language_info": {
   "codemirror_mode": {
    "name": "ipython",
    "version": 3
   },
   "file_extension": ".py",
   "mimetype": "text/x-python",
   "name": "python",
   "nbconvert_exporter": "python",
   "pygments_lexer": "ipython3",
   "version": "3.9.18"
  }
 },
 "nbformat": 4,
 "nbformat_minor": 2
}
