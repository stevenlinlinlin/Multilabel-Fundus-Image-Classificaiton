{
 "cells": [
  {
   "cell_type": "code",
   "execution_count": null,
   "metadata": {},
   "outputs": [],
   "source": [
    "import os\n",
    "import cv2\n",
    "import numpy as np"
   ]
  },
  {
   "cell_type": "code",
   "execution_count": null,
   "metadata": {},
   "outputs": [],
   "source": [
    "def fov_extractor(image):\n",
    "    # Step 1: Convert to red channel and find image dimensions\n",
    "    red_channel = image[:, :, 2]  # Assuming the image is in BGR format\n",
    "    h, w = red_channel.shape\n",
    "\n",
    "    # Step 2: Calculate center lines\n",
    "    Hcenterline = h // 2\n",
    "    Vcenterline = w // 2\n",
    "\n",
    "    # Step 3: Draw scanning lines and calculate intensity profile\n",
    "    horizontal_line = red_channel[Hcenterline, :]\n",
    "    vertical_line = red_channel[:, Vcenterline]\n",
    "\n",
    "    # Step 4: Calculate threshold using empirical factor\n",
    "    th = max(horizontal_line) * 0.06\n",
    "\n",
    "    # Find transitions based on threshold\n",
    "    horizontal_transitions = np.where(np.diff(horizontal_line > th))[0]\n",
    "    vertical_transitions = np.where(np.diff(vertical_line > th))[0]\n",
    "\n",
    "    # Ensure there are at least two transitions to form a rectangle\n",
    "    if len(horizontal_transitions) >= 2 and len(vertical_transitions) >= 2:\n",
    "        X1, X2 = horizontal_transitions[[0, -1]]\n",
    "        Y1, Y2 = vertical_transitions[[0, -1]]\n",
    "\n",
    "        # Step 5: Crop the FOV based on found coordinates\n",
    "        fov_image = image[Y1:Y2, X1:X2]\n",
    "        return fov_image\n",
    "    else:\n",
    "        print(\"No valid transitions found\")\n",
    "        return None  # In case no valid transitions are found\n",
    "\n",
    "\n",
    "def process_images(input_folder, output_folder):\n",
    "    if not os.path.exists(output_folder):\n",
    "        os.makedirs(output_folder)\n",
    "\n",
    "    for filename in os.listdir(input_folder):\n",
    "        if filename.lower().endswith(('.png', '.jpg', '.jpeg', '.bmp')):\n",
    "            img_path = os.path.join(input_folder, filename)\n",
    "            image = cv2.imread(img_path)\n",
    "            if image is not None:\n",
    "                processed_image = fov_extractor(image)\n",
    "                if processed_image is not None:\n",
    "                    output_path = os.path.join(output_folder, filename)\n",
    "                    cv2.imwrite(output_path, processed_image)\n",
    "                else:\n",
    "                    print(f\"Processing failed for image: {filename}\")\n",
    "            else:\n",
    "                print(f\"Failed to load image: {filename}\")\n",
    "                \n",
    "\n",
    "\n",
    "input_folder_path = \"input_images\"\n",
    "output_folder_path = \"output_images\"\n",
    "process_images(input_folder_path, output_folder_path)"
   ]
  }
 ],
 "metadata": {
  "kernelspec": {
   "display_name": "multilabel",
   "language": "python",
   "name": "python3"
  },
  "language_info": {
   "name": "python",
   "version": "3.9.-1"
  }
 },
 "nbformat": 4,
 "nbformat_minor": 2
}
