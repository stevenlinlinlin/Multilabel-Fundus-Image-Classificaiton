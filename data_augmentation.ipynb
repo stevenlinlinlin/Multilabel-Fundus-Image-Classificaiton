{
 "cells": [
  {
   "cell_type": "code",
   "execution_count": 1,
   "metadata": {},
   "outputs": [],
   "source": [
    "import albumentations as A\n",
    "import cv2\n",
    "from pathlib import Path\n",
    "import pandas as pd"
   ]
  },
  {
   "cell_type": "markdown",
   "metadata": {},
   "source": [
    "# Random OverSampling"
   ]
  },
  {
   "cell_type": "code",
   "execution_count": 2,
   "metadata": {},
   "outputs": [
    {
     "data": {
      "text/plain": [
       "DR       376\n",
       "ARMD     100\n",
       "MH       317\n",
       "DN       138\n",
       "MYA      101\n",
       "BRVO      73\n",
       "TSLN     186\n",
       "ERM       14\n",
       "LS        47\n",
       "MS        15\n",
       "CSR       37\n",
       "ODC      282\n",
       "CRVO      28\n",
       "TV         6\n",
       "AH        16\n",
       "ODP       65\n",
       "ODE       58\n",
       "ST         5\n",
       "AION      17\n",
       "PT        11\n",
       "RT        14\n",
       "RS        43\n",
       "CRS       32\n",
       "EDN       15\n",
       "RPEC      22\n",
       "MHL       11\n",
       "RP         6\n",
       "OTHER     34\n",
       "dtype: int64"
      ]
     },
     "execution_count": 2,
     "metadata": {},
     "output_type": "execute_result"
    }
   ],
   "source": [
    "labels_df = pd.read_csv('data/fundus/Training_Set/new_RFMiD_Training_Labels.csv')\n",
    "labels_df['ID'] = labels_df['ID'].astype(str)\n",
    "class_counts = labels_df.iloc[:, 1:].sum(axis=0)\n",
    "class_counts"
   ]
  },
  {
   "cell_type": "code",
   "execution_count": 3,
   "metadata": {},
   "outputs": [],
   "source": [
    "# transform = A.Compose([\n",
    "#     A.Rotate(limit=45, p=0.5),  # 旋轉，概率為0.5\n",
    "#     A.HorizontalFlip(p=0.5),    # 水平翻轉，概率為0.5\n",
    "#     # 添加更多的轉換，如果需要的話\n",
    "# ])\n",
    "\n",
    "transform = A.Compose([\n",
    "    A.OneOf([\n",
    "        A.Rotate(limit=45, p=1.0),  # 旋转，当被选择时应用的概率为1.0\n",
    "        A.HorizontalFlip(p=1.0),    # 水平翻转，当被选择时应用的概率为1.0\n",
    "        A.RandomBrightnessContrast(brightness_limit=0.2, contrast_limit=0.2, p=1.0),  # 随机亮度对比度调整\n",
    "        A.HueSaturationValue(hue_shift_limit=20, sat_shift_limit=30, val_shift_limit=20, p=1.0)  # 色调饱和度调整\n",
    "    ], p=1)\n",
    "])"
   ]
  },
  {
   "cell_type": "code",
   "execution_count": 4,
   "metadata": {},
   "outputs": [
    {
     "data": {
      "text/plain": [
       "DR       517\n",
       "ARMD     122\n",
       "MH       372\n",
       "DN       203\n",
       "MYA      103\n",
       "BRVO     110\n",
       "TSLN     246\n",
       "ERM      140\n",
       "LS       137\n",
       "MS       129\n",
       "CSR      138\n",
       "ODC      440\n",
       "CRVO     100\n",
       "TV       100\n",
       "AH       100\n",
       "ODP      183\n",
       "ODE      107\n",
       "ST       100\n",
       "AION     100\n",
       "PT       100\n",
       "RT       100\n",
       "RS       101\n",
       "CRS      110\n",
       "EDN      101\n",
       "RPEC     100\n",
       "MHL      100\n",
       "RP       104\n",
       "OTHER    100\n",
       "dtype: int64"
      ]
     },
     "execution_count": 4,
     "metadata": {},
     "output_type": "execute_result"
    }
   ],
   "source": [
    "images_path = Path(\"data/fundus/Training_Set/Training\")\n",
    "ID_name = 1921\n",
    "while True:\n",
    "    class_counts = labels_df.iloc[:, 1:].sum(axis=0)\n",
    "    if all(class_counts >= 100):\n",
    "        break \n",
    "    \n",
    "    for class_name, count in class_counts.items():\n",
    "        if count >= 100:\n",
    "            continue\n",
    "\n",
    "        images_to_augment = labels_df[labels_df[class_name] == 1]\n",
    "        img_rows = images_to_augment.sample(n=min(100-count, count))\n",
    "        # print(img_rows)\n",
    "        for index, img_row in img_rows.iterrows():\n",
    "            img_name = img_row['ID']\n",
    "            image_path = images_path / f\"{img_name}.png\"\n",
    "            image = cv2.imread(str(image_path))\n",
    "            if image is not None:\n",
    "                image = cv2.cvtColor(image, cv2.COLOR_BGR2RGB)\n",
    "                \n",
    "                transformed = transform(image=image)\n",
    "                transformed_image = transformed[\"image\"]\n",
    "\n",
    "                new_img_name = f\"{ID_name}.png\"\n",
    "                ID_name += 1\n",
    "                new_img_path = images_path / new_img_name\n",
    "                cv2.imwrite(str(new_img_path), cv2.cvtColor(transformed_image, cv2.COLOR_RGB2BGR))\n",
    "                \n",
    "                new_row = img_row.copy()\n",
    "                new_row['ID'] = new_img_name.replace('.png', '')\n",
    "                labels_df = labels_df._append(new_row, ignore_index=True)\n",
    "\n",
    "        break\n",
    "    # print(class_counts)\n",
    "    # print(\"xxxxxxxxxxxxxxxxxxxxxxxx\")\n",
    "            \n",
    "class_counts"
   ]
  },
  {
   "cell_type": "code",
   "execution_count": 5,
   "metadata": {},
   "outputs": [],
   "source": [
    "labels_df.to_csv('data/fundus/Training_Set/new_RFMiD_Training_Labels_augmented.csv', index=False)"
   ]
  }
 ],
 "metadata": {
  "kernelspec": {
   "display_name": "multilabel",
   "language": "python",
   "name": "python3"
  },
  "language_info": {
   "codemirror_mode": {
    "name": "ipython",
    "version": 3
   },
   "file_extension": ".py",
   "mimetype": "text/x-python",
   "name": "python",
   "nbconvert_exporter": "python",
   "pygments_lexer": "ipython3",
   "version": "3.9.18"
  }
 },
 "nbformat": 4,
 "nbformat_minor": 2
}
