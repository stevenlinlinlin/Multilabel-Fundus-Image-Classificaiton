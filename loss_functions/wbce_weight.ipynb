{
 "cells": [
  {
   "cell_type": "code",
   "execution_count": 2,
   "metadata": {},
   "outputs": [
    {
     "data": {
      "text/plain": [
       "tensor([ 3.4545,  3.4658, 12.0667,  7.3602, 13.1120, 13.0000, 12.5692, 23.8451,\n",
       "        27.0000, 34.2800, 39.0909, 35.7500, 36.5319, 37.3478, 46.6757, 59.8276,\n",
       "        62.0000, 66.8462, 72.5000,  7.4402])"
      ]
     },
     "execution_count": 2,
     "metadata": {},
     "output_type": "execute_result"
    }
   ],
   "source": [
    "import pandas as pd\n",
    "import torch\n",
    "import torch.nn as nn\n",
    "\n",
    "df = pd.read_csv('../data/fundus/MuReD/train_data.csv')\n",
    "\n",
    "labels = df.iloc[:, 1:]\n",
    "\n",
    "label_positives = labels.sum(axis=0)\n",
    "label_negatives = (1 - labels).sum(axis=0)\n",
    "pos_weight = label_negatives / label_positives\n",
    "\n",
    "pos_weight = torch.tensor(pos_weight.values, dtype=torch.float32)\n",
    "pos_weight"
   ]
  }
 ],
 "metadata": {
  "kernelspec": {
   "display_name": "multilabel",
   "language": "python",
   "name": "python3"
  },
  "language_info": {
   "codemirror_mode": {
    "name": "ipython",
    "version": 3
   },
   "file_extension": ".py",
   "mimetype": "text/x-python",
   "name": "python",
   "nbconvert_exporter": "python",
   "pygments_lexer": "ipython3",
   "version": "3.9.18"
  }
 },
 "nbformat": 4,
 "nbformat_minor": 2
}
