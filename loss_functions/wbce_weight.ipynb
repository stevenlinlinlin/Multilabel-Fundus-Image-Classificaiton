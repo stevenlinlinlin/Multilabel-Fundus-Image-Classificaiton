{
 "cells": [
  {
   "cell_type": "code",
   "execution_count": 1,
   "metadata": {},
   "outputs": [
    {
     "data": {
      "text/plain": [
       "tensor([ 3.7728,  4.4253, 13.9860,  8.0422, 15.2348, 12.6497, 13.8819, 26.1266,\n",
       "        26.1266, 26.1266, 26.1266, 26.1266, 26.1266, 26.1266, 24.5119, 24.8193,\n",
       "        24.5119, 20.2178, 26.1266,  8.1974])"
      ]
     },
     "execution_count": 1,
     "metadata": {},
     "output_type": "execute_result"
    }
   ],
   "source": [
    "import pandas as pd\n",
    "import torch\n",
    "import torch.nn as nn\n",
    "\n",
    "df = pd.read_csv('../data/fundus/MuReD/ros02_train_data.csv')\n",
    "\n",
    "labels = df.iloc[:, 1:]\n",
    "\n",
    "label_positives = labels.sum(axis=0)\n",
    "label_negatives = (1 - labels).sum(axis=0)\n",
    "pos_weight = label_negatives / label_positives\n",
    "\n",
    "pos_weight = torch.tensor(pos_weight.values, dtype=torch.float32)\n",
    "pos_weight"
   ]
  }
 ],
 "metadata": {
  "kernelspec": {
   "display_name": "multilabel",
   "language": "python",
   "name": "python3"
  },
  "language_info": {
   "codemirror_mode": {
    "name": "ipython",
    "version": 3
   },
   "file_extension": ".py",
   "mimetype": "text/x-python",
   "name": "python",
   "nbconvert_exporter": "python",
   "pygments_lexer": "ipython3",
   "version": "3.9.18"
  }
 },
 "nbformat": 4,
 "nbformat_minor": 2
}
